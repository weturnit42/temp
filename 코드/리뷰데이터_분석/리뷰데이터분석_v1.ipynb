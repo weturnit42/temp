{
 "cells": [
  {
   "cell_type": "code",
   "execution_count": 1,
   "id": "1412aec5",
   "metadata": {},
   "outputs": [],
   "source": [
    "import pandas as pd"
   ]
  },
  {
   "cell_type": "code",
   "execution_count": 2,
   "id": "39edfa0d",
   "metadata": {},
   "outputs": [],
   "source": [
    "df1 = pd.read_csv(\"A0202_review.csv\")\n",
    "df2 =pd.read_csv(\"A0203_review.csv\")\n",
    "df3 = pd.read_csv(\"A0206_review.csv\")\n",
    "df4 = pd.read_csv(\"A0302_review.csv\")\n",
    "df5 = pd.read_csv(\"A0303_review.csv\")\n",
    "df6 = pd.read_csv(\"A0304_review.csv\")\n",
    "df7 = pd.read_csv(\"A0305_review.csv\")\n",
    "df8 = pd.read_csv(\"B0201_review.csv\")\n",
    "df9 = pd.read_csv(\"A0401_review.csv\")"
   ]
  },
  {
   "cell_type": "code",
   "execution_count": 3,
   "id": "d809a540",
   "metadata": {},
   "outputs": [],
   "source": [
    "import pandas as pd\n",
    "\n",
    "# NaN 값을 빈 문자열로 대체\n",
    "df1[\"review\"].fillna(\"\", inplace=True)\n",
    "df2[\"review\"].fillna(\"\", inplace=True)\n",
    "df3[\"review\"].fillna(\"\", inplace=True)\n",
    "df4[\"review\"].fillna(\"\", inplace=True)\n",
    "df5[\"review\"].fillna(\"\", inplace=True)\n",
    "df6[\"review\"].fillna(\"\", inplace=True)\n",
    "df7[\"review\"].fillna(\"\", inplace=True)\n",
    "df8[\"review\"].fillna(\"\", inplace=True)\n",
    "df9[\"review\"].fillna(\"\", inplace=True)\n",
    "# name이 같은 행들의 review를 합치기\n",
    "df1 = df1.groupby(\"name\")[\"review\"].apply(lambda x: \"\\n\".join(x)).reset_index()\n",
    "df2 = df2.groupby(\"name\")[\"review\"].apply(lambda x: \"\\n\".join(x)).reset_index()\n",
    "df3 = df3.groupby(\"name\")[\"review\"].apply(lambda x: \"\\n\".join(x)).reset_index()\n",
    "df4 = df4.groupby(\"name\")[\"review\"].apply(lambda x: \"\\n\".join(x)).reset_index()\n",
    "df5 = df5.groupby(\"name\")[\"review\"].apply(lambda x: \"\\n\".join(x)).reset_index()\n",
    "df6 = df6.groupby(\"name\")[\"review\"].apply(lambda x: \"\\n\".join(x)).reset_index()\n",
    "df7 = df7.groupby(\"name\")[\"review\"].apply(lambda x: \"\\n\".join(x)).reset_index()\n",
    "df8 = df8.groupby(\"name\")[\"review\"].apply(lambda x: \"\\n\".join(x)).reset_index()\n",
    "df9 = df9.groupby(\"name\")[\"review\"].apply(lambda x: \"\\n\".join(x)).reset_index()\n",
    "\n"
   ]
  },
  {
   "cell_type": "code",
   "execution_count": 4,
   "id": "6619ddd2",
   "metadata": {},
   "outputs": [
    {
     "name": "stderr",
     "output_type": "stream",
     "text": [
      "C:\\Users\\User\\anaconda3\\Lib\\site-packages\\paramiko\\transport.py:219: CryptographyDeprecationWarning: Blowfish has been deprecated\n",
      "  \"class\": algorithms.Blowfish,\n"
     ]
    }
   ],
   "source": [
    "from gensim import corpora, models \n",
    "from nltk.tokenize import word_tokenize, sent_tokenize\n",
    "from konlpy.tag import Okt\n",
    "from konlpy.tag import Komoran\n",
    "from konlpy.tag import Hannanum\n",
    "okt = Okt()\n",
    "komoran = Komoran()\n",
    "hannanum = Hannanum()\n",
    "stopword_list = pd.read_csv(\"stopword.txt\")"
   ]
  },
  {
   "cell_type": "code",
   "execution_count": 5,
   "id": "e8c1a958",
   "metadata": {},
   "outputs": [],
   "source": [
    "dataframes = [df1, df2, df3, df4, df5, df6, df7, df8, df9]\n",
    "\n",
    "for df in dataframes:\n",
    "    df[\"words\"] = \"\"\n",
    "\n",
    "    for i in range(len(df.index)):\n",
    "        document1 = [x for x in sent_tokenize(df[\"review\"][i])]\n",
    "\n",
    "        if document1:\n",
    "            doc_N1 = [[y for y in okt.nouns(x) if y not in stopword_list] for x in document1]\n",
    "\n",
    "            if any(doc_N1):\n",
    "                doc_dict1 = corpora.Dictionary(doc_N1)\n",
    "                corpus1 = [doc_dict1.doc2bow(x) for x in doc_N1]\n",
    "                lda_model = models.LdaModel(corpus1, num_topics=3, id2word=doc_dict1, passes=15)\n",
    "\n",
    "                word_list1 = []\n",
    "                for topic_id in range(lda_model.num_topics):\n",
    "                    words = lda_model.show_topic(topic_id, topn=10)\n",
    "                    word_list1.extend([word[0] for word in words])\n",
    "\n",
    "                df.loc[i, \"words\"] = ' '.join(word_list1)\n",
    "            else:\n",
    "                df.loc[i, \"words\"] = \"\"\n",
    "        else:\n",
    "            df.loc[i, \"words\"] = \"\"\n"
   ]
  },
  {
   "cell_type": "code",
   "execution_count": 6,
   "id": "b5e4039a",
   "metadata": {},
   "outputs": [],
   "source": [
    "# df1.to_csv(\"휴양.csv\")\n",
    "# df2.to_csv(\"체험관광지.csv\")\n",
    "# df3.to_csv(\"문화시설.csv\")\n",
    "# df4.to_csv(\"육상레포트.csv\")\n",
    "# df5.to_csv(\"수상레포츠.csv\")\n",
    "# df6.to_csv(\"항공레포츠.csv\")\n",
    "# df7.to_csv(\"복합레포츠.csv\")\n",
    "# df8.to_csv(\"숙박시설.csv\")"
   ]
  },
  {
   "cell_type": "code",
   "execution_count": 7,
   "id": "862e4407",
   "metadata": {},
   "outputs": [],
   "source": [
    "# df1 = pd.read_csv(\"휴양.csv\")\n",
    "# df2 = pd.read_csv(\"체험관광지.csv\")\n",
    "# df3 = pd.read_csv(\"문화시설.csv\")\n",
    "# df4 = pd.read_csv(\"육상레포트.csv\")\n",
    "# df5 = pd.read_csv(\"수상레포츠.csv\")\n",
    "# df6 = pd.read_csv(\"항공레포츠.csv\")\n",
    "# df7 = pd.read_csv(\"복합레포츠.csv\")\n",
    "# df8 = pd.read_csv(\"숙박시설.csv\")"
   ]
  },
  {
   "cell_type": "code",
   "execution_count": 45,
   "id": "2a98a5a5",
   "metadata": {},
   "outputs": [],
   "source": [
    "healing_list = ['휴식', '마사지', '명상', '힐링음악', '아로마테라피',' '체조', '스트레칭', \n",
    "                '요가', '산책', '휴가', '취미', '피크닉', '스파', '자연', '바다', '산', '힐링스토리', '감성',\n",
    "                '사진찍기', '독서', '그림', '요리', '수영', '차 한잔', '플라워', '힐링캠프', '요가레슨', '요가매트', '숲길', '농장체험',\"행복\"]\n",
    "alone_list = ['묘미', '독특', '특이', '독창', '독보적', '독특성', '특별', '특이점', '유별', \n",
    "              '특색있는', '독특함', '특이한', '독특도', '특이미', '독보성', '유니크', '참신', '특색어', '특이성', '특색을 지닌',\"이색\"]\n",
    "\n",
    "\n",
    "\n",
    "\n",
    "nature_list = ['물', '나무', '돌', '하늘', '바다', '산', '꽃', '나비', '바람', '태양', '달', '구름', '강', '별', '풀', '눈', '강물', '땅', '햇빛', '비']\n",
    "activity_list = ['춤', '운동', '여행', '등산', '요가', '음악', '그림', '영화', '독서', '수영', '사진', '요리', '등록', \n",
    "                 '게임', '캠핑', '자전거', '노래', '축구', '테니스', '스케이트',\"체험\",\"텐트\"]"
   ]
  },
  {
   "cell_type": "code",
   "execution_count": 37,
   "id": "69eac30c",
   "metadata": {},
   "outputs": [
    {
     "data": {
      "text/plain": [
       "123123"
      ]
     },
     "execution_count": 37,
     "metadata": {},
     "output_type": "execute_result"
    }
   ],
   "source": [
    "123123"
   ]
  },
  {
   "cell_type": "code",
   "execution_count": 38,
   "id": "bf0a269a",
   "metadata": {},
   "outputs": [
    {
     "data": {
      "text/plain": [
       "12312321"
      ]
     },
     "execution_count": 38,
     "metadata": {},
     "output_type": "execute_result"
    }
   ],
   "source": [
    "12312321"
   ]
  },
  {
   "cell_type": "code",
   "execution_count": 39,
   "id": "abb2eff9",
   "metadata": {},
   "outputs": [
    {
     "data": {
      "text/plain": [
       "12312"
      ]
     },
     "execution_count": 39,
     "metadata": {},
     "output_type": "execute_result"
    }
   ],
   "source": [
    "12312"
   ]
  },
  {
   "cell_type": "code",
   "execution_count": 41,
   "id": "bca8debf",
   "metadata": {},
   "outputs": [
    {
     "data": {
      "text/plain": [
       "21312312312"
      ]
     },
     "execution_count": 41,
     "metadata": {},
     "output_type": "execute_result"
    }
   ],
   "source": [
    "21312312312"
   ]
  },
  {
   "cell_type": "code",
   "execution_count": null,
   "id": "8e967765",
   "metadata": {},
   "outputs": [],
   "source": []
  },
  {
   "cell_type": "code",
   "execution_count": null,
   "id": "0d348b39",
   "metadata": {},
   "outputs": [],
   "source": []
  },
  {
   "cell_type": "code",
   "execution_count": null,
   "id": "a34061a9",
   "metadata": {},
   "outputs": [],
   "source": [
    "123123"
   ]
  },
  {
   "cell_type": "code",
   "execution_count": null,
   "id": "85bbfd58",
   "metadata": {},
   "outputs": [],
   "source": [
    "df"
   ]
  },
  {
   "cell_type": "code",
   "execution_count": 28,
   "id": "7efaff9e",
   "metadata": {},
   "outputs": [
    {
     "data": {
      "text/plain": [
       "Unnamed: 0                                                  150\n",
       "name                                                     산방산유람선\n",
       "review        부모님과 함께 여행하는거라 제주도하면 유람선이지 싶어서 방문했어요! 설명해주시는 분...\n",
       "words         유람선 부모님 여행 날 안내 운행 수준 오른쪽 어르신 볼 전 도착 갈매기 것 층 아...\n",
       "힐링                                                            O\n",
       "혼자                                                            X\n",
       "자연                                                            X\n",
       "액티비티                                                          O\n",
       "addr1                            제주특별자치도 서귀포시 안덕면 화순해안로106번길 16\n",
       "cat1                                                        A02\n",
       "cat2                                                      A0202\n",
       "cat3                                                  A02020800\n",
       "Name: 150, dtype: object"
      ]
     },
     "execution_count": 28,
     "metadata": {},
     "output_type": "execute_result"
    }
   ],
   "source": [
    "df1.iloc[150]"
   ]
  },
  {
   "cell_type": "code",
   "execution_count": null,
   "id": "b9b2e1c3",
   "metadata": {},
   "outputs": [],
   "source": []
  },
  {
   "cell_type": "code",
   "execution_count": 43,
   "id": "54f3793a",
   "metadata": {},
   "outputs": [
    {
     "data": {
      "text/html": [
       "<div>\n",
       "<style scoped>\n",
       "    .dataframe tbody tr th:only-of-type {\n",
       "        vertical-align: middle;\n",
       "    }\n",
       "\n",
       "    .dataframe tbody tr th {\n",
       "        vertical-align: top;\n",
       "    }\n",
       "\n",
       "    .dataframe thead th {\n",
       "        text-align: right;\n",
       "    }\n",
       "</style>\n",
       "<table border=\"1\" class=\"dataframe\">\n",
       "  <thead>\n",
       "    <tr style=\"text-align: right;\">\n",
       "      <th></th>\n",
       "      <th>Unnamed: 0</th>\n",
       "      <th>name</th>\n",
       "      <th>review</th>\n",
       "      <th>words</th>\n",
       "      <th>힐링</th>\n",
       "      <th>혼자</th>\n",
       "      <th>자연</th>\n",
       "      <th>액티비티</th>\n",
       "      <th>addr1</th>\n",
       "      <th>cat1</th>\n",
       "      <th>cat2</th>\n",
       "      <th>cat3</th>\n",
       "    </tr>\n",
       "  </thead>\n",
       "  <tbody>\n",
       "    <tr>\n",
       "      <th>67</th>\n",
       "      <td>67</td>\n",
       "      <td>남해토피아랜드</td>\n",
       "      <td>사계절 푸른 나무에 예쁜 동물과 다양한 조각상이 나무로 만들어져 있어 색다른 풍경을...</td>\n",
       "      <td>편백 나무숲 나무 모양 생각 제대로 뷰 듯해 산책로 여러 곳 남해 나무 여기 아이 ...</td>\n",
       "      <td>X</td>\n",
       "      <td>X</td>\n",
       "      <td>O</td>\n",
       "      <td>X</td>\n",
       "      <td>경상남도 남해군 창선면 서부로 270-106</td>\n",
       "      <td>A02</td>\n",
       "      <td>A0202</td>\n",
       "      <td>A02020700</td>\n",
       "    </tr>\n",
       "    <tr>\n",
       "      <th>216</th>\n",
       "      <td>216</td>\n",
       "      <td>연호리조트</td>\n",
       "      <td>시설이  너무  낙후됐어요  시설 좋은 모텔보다도  못하네요  전자렌지도 1층에  ...</td>\n",
       "      <td>숙소 가성 여행 속초 비 시설 진짜 뷰 계획 갑인 냄새 곳 생각 시설 숙소 정말 청...</td>\n",
       "      <td>X</td>\n",
       "      <td>X</td>\n",
       "      <td>O</td>\n",
       "      <td>O</td>\n",
       "      <td>강원특별자치도 속초시 싸리재길 247-20</td>\n",
       "      <td>A02</td>\n",
       "      <td>A0202</td>\n",
       "      <td>A02020200</td>\n",
       "    </tr>\n",
       "    <tr>\n",
       "      <th>103</th>\n",
       "      <td>103</td>\n",
       "      <td>딸기향농촌테마공원</td>\n",
       "      <td>깔끔해요. 만들어진지 얼마 안된것 같아서요~\\r\\n재밌는 게임이 많아서 재밌게 잘 ...</td>\n",
       "      <td>아이 예약 실내 공간 놀이터 관리 축소 자만 입장 정원 딸기 체험 시설 아이 수 관...</td>\n",
       "      <td>X</td>\n",
       "      <td>X</td>\n",
       "      <td>X</td>\n",
       "      <td>O</td>\n",
       "      <td>충청남도 논산시 부적면 충곡리</td>\n",
       "      <td>A02</td>\n",
       "      <td>A0202</td>\n",
       "      <td>A02020600</td>\n",
       "    </tr>\n",
       "    <tr>\n",
       "      <th>99</th>\n",
       "      <td>99</td>\n",
       "      <td>두륜미로파크</td>\n",
       "      <td>아이들이 좋아할만한 공간\\n와 생각보다 어렵고 재밌어요\\n걷기 좋고 쾌적해요\\n재미...</td>\n",
       "      <td>생각 아이 공간 걷기 한번 것 미로찾기 상품 굿 미로 아이 생각 한번 상품 고생 것...</td>\n",
       "      <td>X</td>\n",
       "      <td>X</td>\n",
       "      <td>X</td>\n",
       "      <td>X</td>\n",
       "      <td>전라남도 해남군 삼산면 대흥사길 88-11</td>\n",
       "      <td>A02</td>\n",
       "      <td>A0202</td>\n",
       "      <td>A02020600</td>\n",
       "    </tr>\n",
       "    <tr>\n",
       "      <th>26</th>\n",
       "      <td>26</td>\n",
       "      <td>경주월드 어뮤즈먼트</td>\n",
       "      <td>경주월드 좋아요 근데 대기시간이 길면 그이유를 공지해주시면 좋겠어요 ㅠㅡㅠ\\n너무 ...</td>\n",
       "      <td>재미 이유 시간 드 경주월드 공지 짐 켄 짐 켄 공지 경주월드 드 시간 이유 재미 ...</td>\n",
       "      <td>X</td>\n",
       "      <td>X</td>\n",
       "      <td>X</td>\n",
       "      <td>X</td>\n",
       "      <td>경상북도 경주시 보문로 544</td>\n",
       "      <td>A02</td>\n",
       "      <td>A0202</td>\n",
       "      <td>A02020600</td>\n",
       "    </tr>\n",
       "    <tr>\n",
       "      <th>120</th>\n",
       "      <td>120</td>\n",
       "      <td>명암유원지</td>\n",
       "      <td>청주의 유명한 안식처\\n명함 저수지를 돌면서 커피 한 잔 더 좋아요\\n부산 사는데 ...</td>\n",
       "      <td>명암 산책 굿 곳 수 물고기 타워 잔 다 집 산책 더 수도 근처 오빠 다 안식처 청...</td>\n",
       "      <td>O</td>\n",
       "      <td>X</td>\n",
       "      <td>X</td>\n",
       "      <td>X</td>\n",
       "      <td>충청북도 청주시 상당구 성내로124번길 14</td>\n",
       "      <td>A02</td>\n",
       "      <td>A0202</td>\n",
       "      <td>A02020700</td>\n",
       "    </tr>\n",
       "    <tr>\n",
       "      <th>146</th>\n",
       "      <td>146</td>\n",
       "      <td>산내들패밀리어드벤처파크</td>\n",
       "      <td>밤에 물안개 정말 멋져요~👍🏾👍🏾👍🏾\\r\\n사이트 간격도 많이 떨어져 있어서 조용하...</td>\n",
       "      <td>캠핑 텐트 생각 아기 수 저희 전 풍기 가족 벌레 정말 사장 분 곳 좀 이용 캠퍼 ...</td>\n",
       "      <td>X</td>\n",
       "      <td>X</td>\n",
       "      <td>X</td>\n",
       "      <td>O</td>\n",
       "      <td>경상북도 김천시 지례면 부항로 109-38</td>\n",
       "      <td>A02</td>\n",
       "      <td>A0202</td>\n",
       "      <td>A02020600</td>\n",
       "    </tr>\n",
       "  </tbody>\n",
       "</table>\n",
       "</div>"
      ],
      "text/plain": [
       "     Unnamed: 0          name  \\\n",
       "67           67       남해토피아랜드   \n",
       "216         216         연호리조트   \n",
       "103         103     딸기향농촌테마공원   \n",
       "99           99        두륜미로파크   \n",
       "26           26    경주월드 어뮤즈먼트   \n",
       "120         120         명암유원지   \n",
       "146         146  산내들패밀리어드벤처파크   \n",
       "\n",
       "                                                review  \\\n",
       "67   사계절 푸른 나무에 예쁜 동물과 다양한 조각상이 나무로 만들어져 있어 색다른 풍경을...   \n",
       "216  시설이  너무  낙후됐어요  시설 좋은 모텔보다도  못하네요  전자렌지도 1층에  ...   \n",
       "103  깔끔해요. 만들어진지 얼마 안된것 같아서요~\\r\\n재밌는 게임이 많아서 재밌게 잘 ...   \n",
       "99   아이들이 좋아할만한 공간\\n와 생각보다 어렵고 재밌어요\\n걷기 좋고 쾌적해요\\n재미...   \n",
       "26   경주월드 좋아요 근데 대기시간이 길면 그이유를 공지해주시면 좋겠어요 ㅠㅡㅠ\\n너무 ...   \n",
       "120  청주의 유명한 안식처\\n명함 저수지를 돌면서 커피 한 잔 더 좋아요\\n부산 사는데 ...   \n",
       "146  밤에 물안개 정말 멋져요~👍🏾👍🏾👍🏾\\r\\n사이트 간격도 많이 떨어져 있어서 조용하...   \n",
       "\n",
       "                                                 words 힐링 혼자 자연 액티비티  \\\n",
       "67   편백 나무숲 나무 모양 생각 제대로 뷰 듯해 산책로 여러 곳 남해 나무 여기 아이 ...  X  X  O    X   \n",
       "216  숙소 가성 여행 속초 비 시설 진짜 뷰 계획 갑인 냄새 곳 생각 시설 숙소 정말 청...  X  X  O    O   \n",
       "103  아이 예약 실내 공간 놀이터 관리 축소 자만 입장 정원 딸기 체험 시설 아이 수 관...  X  X  X    O   \n",
       "99   생각 아이 공간 걷기 한번 것 미로찾기 상품 굿 미로 아이 생각 한번 상품 고생 것...  X  X  X    X   \n",
       "26   재미 이유 시간 드 경주월드 공지 짐 켄 짐 켄 공지 경주월드 드 시간 이유 재미 ...  X  X  X    X   \n",
       "120  명암 산책 굿 곳 수 물고기 타워 잔 다 집 산책 더 수도 근처 오빠 다 안식처 청...  O  X  X    X   \n",
       "146  캠핑 텐트 생각 아기 수 저희 전 풍기 가족 벌레 정말 사장 분 곳 좀 이용 캠퍼 ...  X  X  X    O   \n",
       "\n",
       "                        addr1 cat1   cat2       cat3  \n",
       "67   경상남도 남해군 창선면 서부로 270-106  A02  A0202  A02020700  \n",
       "216   강원특별자치도 속초시 싸리재길 247-20  A02  A0202  A02020200  \n",
       "103          충청남도 논산시 부적면 충곡리  A02  A0202  A02020600  \n",
       "99    전라남도 해남군 삼산면 대흥사길 88-11  A02  A0202  A02020600  \n",
       "26           경상북도 경주시 보문로 544  A02  A0202  A02020600  \n",
       "120  충청북도 청주시 상당구 성내로124번길 14  A02  A0202  A02020700  \n",
       "146   경상북도 김천시 지례면 부항로 109-38  A02  A0202  A02020600  "
      ]
     },
     "execution_count": 43,
     "metadata": {},
     "output_type": "execute_result"
    }
   ],
   "source": [
    "df1.sample(7)"
   ]
  },
  {
   "cell_type": "code",
   "execution_count": null,
   "id": "cc657515",
   "metadata": {},
   "outputs": [],
   "source": []
  },
  {
   "cell_type": "code",
   "execution_count": 44,
   "id": "36bc447e",
   "metadata": {},
   "outputs": [
    {
     "data": {
      "text/plain": [
       "'밤에 물안개 정말 멋져요~👍🏾👍🏾👍🏾\\r\\n사이트 간격도 많이 떨어져 있어서 조용하고 너무좋았습니다.\\r\\n텐트도 생각보다 훨~씬 넓어서 정말 편하게 자고왔네요~\\r\\n사장님도 엄청 친절하시고 가격도 저렴해서 완전 만족하고 갑니다.\\r\\n다음번에도 꼭 다시 갈꺼예요~😁😁😁\\n사장님이 친절하다는 후기가 많았는데 정말 친절하세요!! 그리고 가격도 너무 저렴하고 가성비 좋았어요>_< 캠핑장이 넓고 관리도 잘되어있어서 캠핌장 안에서만 있었는데도 엄청 잘 놀았습니다! 초보 캠퍼들이 이지캠핑 이용하기에 딱 좋은 것 같아요! 기본적인 장비들이 다 세팅 되어있어서 넘 편하더라구요! 그리고 저녁때 물안개가 올라오는데 분위기 너무 좋았어요ㅠㅠ 엄청 힐링하구왔습니다~ 이번에 산내들 이지캠핑으로 캠핑 매력을 제대로 알게 된 것 같아요~ 덕분에 재밌게 잘 놀다 갔습니다! 다음에도 꼭 재방문 하고싶어요!!\\n텐트 타프 피칭 안해도 되서 편하고 좋았습니다 ㅎㅎ 장비를 다 옮겨야하는 번거로움은 있지만 카트나 웨건 있으면 괜찮을것같아요~ 주말에 방문했는데 토요일에 행사도 있더라구요 아이들이랑 같이 오면 좋을것같아요\\n제일 기본적인 텐트, 타프, 전등, 전기 가 준비되어 있어서 좋았어요 이것만 해도 짐이 훨씬 줄어드네요 물론 씻는거랑 불편한 점도 있긴하지만 가벼운 마음으로 가기 좋았어요 텐트는선착순으로 고르시는 것이라 무조건 일찍 가시기를 추천합니다 카약도 타고 주변에 부항댐출렁다리도 있으니 가보셔도 좋아요 재방문 할께요 감사합니다 \\n재방문 100% 에요 5만원에 사이트랑 텐트의자테이블 다 빌려주시는데 전국에 어딜 찾아도 이정도 가격에 이정도 분위기는 없을 것 같아요 ㅜㅜ 사장님도 너무 친절하셨고 물가라 밤이 되면 습한건 어쩔수 없겠지만 텐트 안에서는 괜찮았어요 그리고 텐트안에랑 타프에 전구가 달려있어서 밤에도 분위기 좋게 잘 쉴수 있었어요 재방문률이 높은 곳 같던데 다들 리뷰를 안남기시는것 같아요 별로 좋지 않은 평가들만 있어서 방문을 망설이셨던 분들이 계시다면 꼭 ! 방문해보세요 저는 이미 친구들 가족들에게 추천 하였습니다~~ 저희에게 좋은 기억을 선물해주셔서 감사해요 자연속에 너무 힐링되는 시간이였습니다❤️\\n사장님 엄청 친절하시고 경치가 예술이었어요. 모닥불에 불꽃가루 잔뜩 넣어주셔서 이쁜 구경 잘 했습니다. 다른 캠퍼들이 하는 불꽃놀이도 잘 봤어요. 장비 없이 갈수 있는 캠핑이 있는 걸 처음 알았는데 봄이 오면 또 가고싶네요. 우리 가족한테는 이지캠핑이 딱 좋았어요.\\n보니 오시는분들은 다 자주이용 하시는 분들인듯..\\r\\n화장실,개수대 거리가 좀 있습니다.\\r\\n캠핑 처음하시는분은 준비 잘해 가셔야 될듯 합니다.\\r\\n오토캠핑이 아니라 주차하시고 준비물은 들고 아님대차가 있으니 실고 들어가셔야 되구요 약100m정도..\\r\\n텐트 밑 천막(그라운드시트) 외엔 없습니다.\\r\\n공지한데로 텐트(전등o) 타프(전등o) 테이블,의자2,쉘프1\\r\\n전 발포 매트,자충,담요,전기장판, 다 챙겨 갔구요\\r\\n소형 온풍기 가지고 갔습니다.\\r\\n전기요,온풍기는 유료 랜탈가능하구요\\r\\n알다마(타프밑전구)도 저희 껍니다.\\r\\n날씨가 선선하고..벌레도 많이 없구요.\\r\\n아침엔 개미들이 텐트 쪽으로 많이 기어다닙니다.\\r\\n텐트가 모기장 지퍼만 잘닫으면 내부로 벌레걱정 없습니다. 샤워x 전 잘이용했습니다.♡감사요\\n두 살 아기랑 갔었어요~ 캠핑장비 사려다 아기가 캠핑 잘 다닐 수 있을까 생각하던 차에 발견했어요. 미리 경험해볼 수 있어 좋았습니다. 아기가 너~~무 좋아했어요. 새소리 들으며 잠에서 깬 아침이 너무 좋아 재방문 하고 싶구요.  텐트랑 타프 테이블 등 준비되어 있어 가장 무거운 짐 덜고 간편하게 캠핑 여행할 수 있는 곳 알게되니 행운이라 생각됩니다.  기회가 되면 장박도 해보고 싶어요. 자연 속 아름다운 조경이였습니다. \\n정말 좋은곳인데 사람들이 많이 모르는것같아 아쉬워요^^; 아이들이 넘넘 좋아했어요. 사장님이 정말 친절하세요. 좀 추워져서 그렇지 아이들 놀기에 최적인 곳입니다. 별보며 카약도 타보고 캠프파이어도 좋았어요! 새로 만난 친구들과 키즈랜드에서 어찌나 잘 놀던지.. 따뜻해지면 무조건 또 갑니다!!\\n친절하신 사장님덕ㅇㅔ 잘보내고 갑니다'"
      ]
     },
     "execution_count": 44,
     "metadata": {},
     "output_type": "execute_result"
    }
   ],
   "source": [
    "df1.iloc[146][\"review\"]"
   ]
  },
  {
   "cell_type": "code",
   "execution_count": 10,
   "id": "3c2dcf6b",
   "metadata": {},
   "outputs": [],
   "source": [
    "for df in [df1, df2, df3, df4, df5, df6, df7, df8, df9]:\n",
    "    df[\"words\"] = df[\"words\"].apply(lambda x: x.lower().strip())\n",
    "    \n",
    "    cond = df[\"words\"].apply(lambda x: any(word in x.split() for word in healing_list))\n",
    "    \n",
    "    df.loc[cond, \"힐링\"] = \"O\"\n",
    "    df.loc[~cond, \"힐링\"] = \"X\"\n"
   ]
  },
  {
   "cell_type": "code",
   "execution_count": 11,
   "id": "b7bbd7f1",
   "metadata": {},
   "outputs": [],
   "source": [
    "for df in [df1, df2, df3, df4, df5, df6, df7, df8, df9]:\n",
    "    df[\"words\"] = df[\"words\"].apply(lambda x: x.lower().strip())\n",
    "    \n",
    "    cond = df[\"words\"].apply(lambda x: any(word in x.split() for word in alone_list))\n",
    "    \n",
    "    df.loc[cond, \"혼자\"] = \"O\"\n",
    "    df.loc[~cond, \"혼자\"] = \"X\""
   ]
  },
  {
   "cell_type": "code",
   "execution_count": 12,
   "id": "dcf1d3b8",
   "metadata": {},
   "outputs": [],
   "source": [
    "for df in [df1, df2, df3, df4, df5, df6, df7, df8, df9]:\n",
    "    df[\"words\"] = df[\"words\"].apply(lambda x: x.lower().strip())\n",
    "    \n",
    "    cond = df[\"words\"].apply(lambda x: any(word in x.split() for word in nature_list))\n",
    "    \n",
    "    df.loc[cond, \"자연\"] = \"O\"\n",
    "    df.loc[~cond, \"자연\"] = \"X\"\n"
   ]
  },
  {
   "cell_type": "code",
   "execution_count": 13,
   "id": "72f89233",
   "metadata": {},
   "outputs": [],
   "source": [
    "for df in [df1, df2, df3, df4, df5, df6, df7, df8, df9]:\n",
    "    df[\"words\"] = df[\"words\"].apply(lambda x: x.lower().strip())\n",
    "    \n",
    "    cond = df[\"words\"].apply(lambda x: any(word in x.split() for word in activity_list))\n",
    "    \n",
    "    df.loc[cond, \"액티비티\"] = \"O\"\n",
    "    df.loc[~cond, \"액티비티\"] = \"X\"\n"
   ]
  },
  {
   "cell_type": "code",
   "execution_count": 14,
   "id": "183762ed",
   "metadata": {},
   "outputs": [],
   "source": [
    "# df1.to_csv(\"휴양.csv\")\n",
    "# df2.to_csv(\"체험관광지.csv\")\n",
    "# df3.to_csv(\"문화시설.csv\")\n",
    "# df4.to_csv(\"육상레포트.csv\")\n",
    "# df5.to_csv(\"수상레포츠.csv\")\n",
    "# df6.to_csv(\"항공레포츠.csv\")\n",
    "# df7.to_csv(\"복합레포츠.csv\")\n",
    "# df8.to_csv(\"숙박시설.csv\")"
   ]
  },
  {
   "cell_type": "code",
   "execution_count": 15,
   "id": "02e08b9c",
   "metadata": {},
   "outputs": [],
   "source": [
    "# df1 = pd.read_csv(\"휴양.csv\")\n",
    "# df2 = pd.read_csv(\"체험관광지.csv\")\n",
    "# df3 = pd.read_csv(\"문화시설.csv\")\n",
    "# df4 = pd.read_csv(\"육상레포트.csv\")\n",
    "# df5 = pd.read_csv(\"수상레포츠.csv\")\n",
    "# df6 = pd.read_csv(\"항공레포츠.csv\")\n",
    "# df7 = pd.read_csv(\"복합레포츠.csv\")\n",
    "# df8 = pd.read_csv(\"숙박시설.csv\")"
   ]
  },
  {
   "cell_type": "code",
   "execution_count": 7,
   "id": "96c868d0",
   "metadata": {},
   "outputs": [],
   "source": [
    "df11 = pd.read_csv(\"CsvAndExcels/CsvAndExcels/A0202.csv\")\n",
    "df22 =pd.read_csv(\"CsvAndExcels/CsvAndExcels/A0203.csv\")\n",
    "df33 = pd.read_csv(\"CsvAndExcels/CsvAndExcels/A0206.csv\")\n",
    "df44 = pd.read_csv(\"CsvAndExcels/CsvAndExcels/A0302.csv\")\n",
    "df55 = pd.read_csv(\"CsvAndExcels/CsvAndExcels/A0303.csv\")\n",
    "df66 = pd.read_csv(\"CsvAndExcels/CsvAndExcels/A0304.csv\")\n",
    "df77 = pd.read_csv(\"CsvAndExcels/CsvAndExcels/A0305.csv\")\n",
    "df88 = pd.read_csv(\"CsvAndExcels/CsvAndExcels/B0201.csv\")\n",
    "df99 = pd.read_csv(\"CsvAndExcels/CsvAndExcels/A0401.csv\")"
   ]
  },
  {
   "cell_type": "code",
   "execution_count": 17,
   "id": "745c2f2f",
   "metadata": {},
   "outputs": [],
   "source": [
    "import pandas as pd\n",
    "\n",
    "# 파일 경로 및 열 이름 변경 규칙 정의\n",
    "file_paths = {\n",
    "    1: \"CsvAndExcels/CsvAndExcels/A0202.csv\",\n",
    "    2: \"CsvAndExcels/CsvAndExcels/A0203.csv\",\n",
    "    3: \"CsvAndExcels/CsvAndExcels/A0206.csv\",\n",
    "    4: \"CsvAndExcels/CsvAndExcels/A0302.csv\",\n",
    "    5: \"CsvAndExcels/CsvAndExcels/A0303.csv\",\n",
    "    6: \"CsvAndExcels/CsvAndExcels/A0304.csv\",\n",
    "    7: \"CsvAndExcels/CsvAndExcels/A0305.csv\",\n",
    "    8: \"CsvAndExcels/CsvAndExcels/B0201.csv\",\n",
    "    9 : \"CsvAndExcels/CsvAndExcels/A0401.csv\"\n",
    "}\n",
    "\n",
    "# 반복문을 사용하여 파일 읽어오고 처리\n",
    "for i in range(1, len(file_paths)+1):\n",
    "    # 파일 읽어오기\n",
    "    df = pd.read_csv(file_paths[i])\n",
    "    # 열 이름 변경 및 선택\n",
    "    globals()[f\"df{i}{i}\"] = df[[\"addr1\", \"title\",\"cat1\",\"cat2\",\"cat3\"]].rename(columns={\"title\": \"name\"})\n",
    "    # Merge 처리\n",
    "    globals()[f\"df{i}\"] = pd.merge(globals()[f\"df{i}\"], globals()[f\"df{i}{i}\"], on=\"name\", how=\"inner\")\n"
   ]
  },
  {
   "cell_type": "code",
   "execution_count": 18,
   "id": "a7e7ae39",
   "metadata": {},
   "outputs": [],
   "source": [
    "df1.to_csv(\"휴양.csv\")\n",
    "df2.to_csv(\"체험관광지.csv\")\n",
    "df3.to_csv(\"문화시설.csv\")\n",
    "df4.to_csv(\"육상레포트.csv\")\n",
    "df5.to_csv(\"수상레포츠.csv\")\n",
    "df6.to_csv(\"항공레포츠.csv\")\n",
    "df7.to_csv(\"복합레포츠.csv\")\n",
    "df8.to_csv(\"숙박시설.csv\")\n",
    "df9.to_csv(\"쇼핑몰_전통시장.csv\")"
   ]
  },
  {
   "cell_type": "code",
   "execution_count": 2,
   "id": "29eace60",
   "metadata": {},
   "outputs": [],
   "source": [
    "import pandas as pd\n",
    "\n",
    "df1 = pd.read_csv(\"휴양.csv\")\n",
    "df2 = pd.read_csv(\"체험관광지.csv\")\n",
    "df3 = pd.read_csv(\"문화시설.csv\")\n",
    "df4 = pd.read_csv(\"육상레포트.csv\")\n",
    "df5 = pd.read_csv(\"수상레포츠.csv\")\n",
    "df6 = pd.read_csv(\"항공레포츠.csv\")\n",
    "df7 = pd.read_csv(\"복합레포츠.csv\")\n",
    "df8 = pd.read_csv(\"숙박시설.csv\")\n",
    "df9 = pd.read_csv(\"쇼핑몰_전통시장.csv\")"
   ]
  },
  {
   "cell_type": "code",
   "execution_count": null,
   "id": "faf2667e",
   "metadata": {},
   "outputs": [],
   "source": []
  },
  {
   "cell_type": "code",
   "execution_count": 5,
   "id": "877f375d",
   "metadata": {},
   "outputs": [
    {
     "data": {
      "text/plain": [
       "'산책 및 화장실 무 때 좀 목줄 안 방송 풀 및 산책 풀 화장실 때 방송 무 목줄 안 카페 및 화장실 산책 카페 좀 안 방송 목줄 풀 때'"
      ]
     },
     "execution_count": 5,
     "metadata": {},
     "output_type": "execute_result"
    }
   ],
   "source": [
    "df1.iloc[2][\"words\"]"
   ]
  },
  {
   "cell_type": "code",
   "execution_count": null,
   "id": "5d21f3c9",
   "metadata": {},
   "outputs": [],
   "source": []
  },
  {
   "cell_type": "code",
   "execution_count": 7,
   "id": "e78027e3",
   "metadata": {},
   "outputs": [],
   "source": [
    "from pmdarima import auto_arima\n",
    "import pmdarima as pm\n",
    "from pmdarima.arima.utils import ndiffs"
   ]
  },
  {
   "cell_type": "code",
   "execution_count": null,
   "id": "003a8a08",
   "metadata": {},
   "outputs": [],
   "source": []
  },
  {
   "cell_type": "code",
   "execution_count": 16,
   "id": "6f651fc5",
   "metadata": {},
   "outputs": [
    {
     "data": {
      "text/plain": [
       "['춤',\n",
       " '운동',\n",
       " '여행',\n",
       " '등산',\n",
       " '요가',\n",
       " '음악',\n",
       " '그림',\n",
       " '영화',\n",
       " '독서',\n",
       " '수영',\n",
       " '사진',\n",
       " '요리',\n",
       " '등록',\n",
       " '게임',\n",
       " '캠핑',\n",
       " '자전거',\n",
       " '노래',\n",
       " '축구',\n",
       " '테니스',\n",
       " '스케이트']"
      ]
     },
     "execution_count": 16,
     "metadata": {},
     "output_type": "execute_result"
    }
   ],
   "source": [
    "activity_list"
   ]
  },
  {
   "cell_type": "code",
   "execution_count": 22,
   "id": "7456492d",
   "metadata": {},
   "outputs": [
    {
     "data": {
      "text/plain": [
       "\"마산에 들려 점심먹고 부산으로 가다가 급정거. 뭐지  뭐지??? 들려봐야겠다하고 왔는데 오, 멋지더군요. 규모도 크고 바다를 가로지르는 신비한?다리하며 공원 조성이 규모도 그렇고 정갈하달까? 마산 시민들은 행복하겠어요란 생각이 들더라고요. 굳굳.☺️\\n3.15해양누리공원 바닷가에서 가까워서 산책하기 좋고 바다뷰가 최고입니다 사랑하는 연인과 가족 등 함께 걸으뮌 볼거리 너무 많아요 바람이 많이 불어서 요즘 연날리기 동호회 다양한 연을 볼수 있답니다. 아이들이 마음껏 뛰어 놀수 있는곳\\n바다 보며 산책하기 넘나 좋은곳\\n좋아요 바다도 멋진다리도 보고 돌섬도\\n바닷바람 내음을 보다 가까이 향유하고자 걸음을 바닷가로 내딛어 보았다. 해안도로 건너 편은 또 다른 세상으로 나를 안내하였다. 바로 '아름다운 스포츠 세상' 이다. 시민들은 새롭게 조성된 해양체육공 원을 마치 신상품인양 소비하느라 바쁘다. 시민들은 쉴 틈 없이 신체를 소비하고 있다. 가족, 친구, 연인 들과 걸으면서 못다 한 담소를 나눈다. 자전거 두 바퀴가 힘차게 돌아가는 모습, 쫓기듯 질주하는 러너, 반려동물과 산책하는 모습, 코트를 누비는 테니스장의 청년들, 응원찬 목소리의 길거리 농구와 풋살 적어도 내 눈에는 아름다워 보인다. 바로 3.15해양누리공원에 비춰진 아름다운 스포츠의 광경이다. 늦은 밤 나의 하루일상을 마감하는데 더없이 좋은 장소였다. 내일도 이곳에서 하루일상을 마무리할까한다.\\n마산 3.15해양누리공원에서 바라곤 야경이 너무 좋아요\\n국화 축제가 개최되었던 장소 인 만큼 경치가 좋습니다 특히 저 다리 위에서 바라보는 바다 풍경은 절경이에요. 근처에 공사하는 곳이 있는데 언젠가 해양 신도시를 개발 중이라네요\\n걷기도 좋고\\r\\n버스킹도 있고\\r\\n넓고\\r\\n좋아요!\\n누리해양공원 정말 시민들한테 유익하고\\r\\n멋져요\\n국화축제가 진행되는 가운데 금요일 저녁8시에\\r\\n불꽃축제가 시작되어서 화려하고 멋진 장면들~\""
      ]
     },
     "execution_count": 22,
     "metadata": {},
     "output_type": "execute_result"
    }
   ],
   "source": [
    "df1.iloc[1].review"
   ]
  },
  {
   "cell_type": "code",
   "execution_count": 57,
   "id": "14ccf42c",
   "metadata": {
    "collapsed": true
   },
   "outputs": [
    {
     "data": {
      "text/html": [
       "<div>\n",
       "<style scoped>\n",
       "    .dataframe tbody tr th:only-of-type {\n",
       "        vertical-align: middle;\n",
       "    }\n",
       "\n",
       "    .dataframe tbody tr th {\n",
       "        vertical-align: top;\n",
       "    }\n",
       "\n",
       "    .dataframe thead th {\n",
       "        text-align: right;\n",
       "    }\n",
       "</style>\n",
       "<table border=\"1\" class=\"dataframe\">\n",
       "  <thead>\n",
       "    <tr style=\"text-align: right;\">\n",
       "      <th></th>\n",
       "      <th>Unnamed: 0</th>\n",
       "      <th>name</th>\n",
       "      <th>review</th>\n",
       "      <th>words</th>\n",
       "      <th>힐링</th>\n",
       "      <th>혼자</th>\n",
       "      <th>자연</th>\n",
       "      <th>액티비티</th>\n",
       "      <th>addr1</th>\n",
       "      <th>cat1</th>\n",
       "      <th>cat2</th>\n",
       "      <th>cat3</th>\n",
       "    </tr>\n",
       "  </thead>\n",
       "  <tbody>\n",
       "    <tr>\n",
       "      <th>50</th>\n",
       "      <td>50</td>\n",
       "      <td>낙타트레킹</td>\n",
       "      <td>혼자 여행갔다가 이색체험 해 보고 싶어서 예약 후 갔어요~ 혼자 갔는데도 직원분들이...</td>\n",
       "      <td>사진 안 트레킹 줌 분 삼 가면 진심 치마 재밋 낙타 체험 사진 아이 저 느낌 생각...</td>\n",
       "      <td>X</td>\n",
       "      <td>O</td>\n",
       "      <td>X</td>\n",
       "      <td>O</td>\n",
       "      <td>제주특별자치도 서귀포시 표선면 번영로 2564-21</td>\n",
       "      <td>A02</td>\n",
       "      <td>A0203</td>\n",
       "      <td>A02030100</td>\n",
       "    </tr>\n",
       "    <tr>\n",
       "      <th>81</th>\n",
       "      <td>81</td>\n",
       "      <td>도치돌 알파카목장</td>\n",
       "      <td>아이가 알파카를 너무 좋아해서 제주도 도착 첫날 바로 방문했어요^^경치가 너무 예쁘...</td>\n",
       "      <td>알파카 동물 말 염소 구경 토끼 더 생각 카페 사장 알파카 아이 먹이 이름 여행 혼...</td>\n",
       "      <td>X</td>\n",
       "      <td>O</td>\n",
       "      <td>X</td>\n",
       "      <td>O</td>\n",
       "      <td>제주특별자치도 제주시 애월읍 도치돌길 293</td>\n",
       "      <td>A02</td>\n",
       "      <td>A0203</td>\n",
       "      <td>A02030100</td>\n",
       "    </tr>\n",
       "    <tr>\n",
       "      <th>95</th>\n",
       "      <td>95</td>\n",
       "      <td>레치키치 스튜디오</td>\n",
       "      <td>I went here to take photos with a high school ...</td>\n",
       "      <td>포즈 생일 다음 시선 추억 소품 또 작업 인형 처리 사진 친구 정말 방문 샷 인생 ...</td>\n",
       "      <td>X</td>\n",
       "      <td>O</td>\n",
       "      <td>X</td>\n",
       "      <td>O</td>\n",
       "      <td>서울특별시 마포구 동교동</td>\n",
       "      <td>A02</td>\n",
       "      <td>A0203</td>\n",
       "      <td>A02030400</td>\n",
       "    </tr>\n",
       "    <tr>\n",
       "      <th>102</th>\n",
       "      <td>102</td>\n",
       "      <td>리홀뮤직갤러리</td>\n",
       "      <td>음악 듣기 좋아요\\n😍\\n클래식과 밴드음악 듣기 좋아요\\n24년 살면서 경험한 공간...</td>\n",
       "      <td>방문 것 갤러리 오히려 혼자 공간 곡 대해 청곡 분 공간 스피커 설명 장르 곡 더 ...</td>\n",
       "      <td>X</td>\n",
       "      <td>O</td>\n",
       "      <td>X</td>\n",
       "      <td>O</td>\n",
       "      <td>서울특별시 성북구 성북로31길 9 (성북동)</td>\n",
       "      <td>A02</td>\n",
       "      <td>A0203</td>\n",
       "      <td>A02030400</td>\n",
       "    </tr>\n",
       "    <tr>\n",
       "      <th>174</th>\n",
       "      <td>174</td>\n",
       "      <td>서귀포 용왕난드르마을</td>\n",
       "      <td>제가 최고 애정하는 보말 맛집이에요~!! 메뉴마다 다~~~ 맛있습니다!! 이 집 없...</td>\n",
       "      <td>수제비 여기 해조 가장 집 거의 이 맛집 드르 몇 제 정말 입맛 맛집 조금 혼자 간...</td>\n",
       "      <td>X</td>\n",
       "      <td>O</td>\n",
       "      <td>X</td>\n",
       "      <td>X</td>\n",
       "      <td>제주특별자치도 서귀포시 안덕면 대평감산로 8</td>\n",
       "      <td>A02</td>\n",
       "      <td>A0203</td>\n",
       "      <td>A02030100</td>\n",
       "    </tr>\n",
       "    <tr>\n",
       "      <th>191</th>\n",
       "      <td>191</td>\n",
       "      <td>속초해수욕장 대관람차(속초아이)</td>\n",
       "      <td>평일에는 기다림없이 바로 입장할수 있었습니다\\r\\n속초에 놀러가면 늘 방문하는데 속...</td>\n",
       "      <td>속초 예약 바로 입장 이용 혼자 주차장 대기 네이버 평일 생각 뷰 정말 전망 타 사...</td>\n",
       "      <td>O</td>\n",
       "      <td>O</td>\n",
       "      <td>O</td>\n",
       "      <td>O</td>\n",
       "      <td>강원특별자치도 속초시 청호해안길 2</td>\n",
       "      <td>A02</td>\n",
       "      <td>A0203</td>\n",
       "      <td>A02030400</td>\n",
       "    </tr>\n",
       "    <tr>\n",
       "      <th>298</th>\n",
       "      <td>298</td>\n",
       "      <td>유달산 목재문화 체험장</td>\n",
       "      <td>즐거운시간이었습니다\\n케이블카 타고 유달산 넘어가는 중 우연히 발견한 체험장입니다....</td>\n",
       "      <td>체험 직원 유달산 캄 장가 목공 마 수 목재 포도 명 시간 그 휴지 사람 딸 혼자 ...</td>\n",
       "      <td>X</td>\n",
       "      <td>O</td>\n",
       "      <td>X</td>\n",
       "      <td>X</td>\n",
       "      <td>전라남도 목포시 죽교동</td>\n",
       "      <td>A02</td>\n",
       "      <td>A0203</td>\n",
       "      <td>A02030400</td>\n",
       "    </tr>\n",
       "    <tr>\n",
       "      <th>374</th>\n",
       "      <td>374</td>\n",
       "      <td>트니트니어드벤처</td>\n",
       "      <td>17개월 꼬맹이도 5살 누나도\\r\\n너무너무 즐겁게 잘 즐겼어요 :)\\r\\n평소에도...</td>\n",
       "      <td>아이 수업 선생님 시간 때 번 좀 다시 혼자 문 아기 근육 가장 존 미끄럼틀 저 운...</td>\n",
       "      <td>X</td>\n",
       "      <td>O</td>\n",
       "      <td>X</td>\n",
       "      <td>O</td>\n",
       "      <td>경기도 가평군 청평면 북한강로 2245</td>\n",
       "      <td>A02</td>\n",
       "      <td>A0203</td>\n",
       "      <td>A02030400</td>\n",
       "    </tr>\n",
       "    <tr>\n",
       "      <th>400</th>\n",
       "      <td>400</td>\n",
       "      <td>하추리산촌마을</td>\n",
       "      <td>산촌마을 사랑방 느낌.\\r\\n포근하고 따뜻해요.\\r\\n특산물 판매도 같이하네요.\\r...</td>\n",
       "      <td>여행 추리 산신령 혼자 카페 커피 장님 사무국 맞이 지역 수 정말 모든 것 추억 참...</td>\n",
       "      <td>X</td>\n",
       "      <td>O</td>\n",
       "      <td>X</td>\n",
       "      <td>O</td>\n",
       "      <td>강원특별자치도 인제군 인제읍 하추로 187</td>\n",
       "      <td>A02</td>\n",
       "      <td>A0203</td>\n",
       "      <td>A02030100</td>\n",
       "    </tr>\n",
       "  </tbody>\n",
       "</table>\n",
       "</div>"
      ],
      "text/plain": [
       "     Unnamed: 0               name  \\\n",
       "50           50              낙타트레킹   \n",
       "81           81          도치돌 알파카목장   \n",
       "95           95          레치키치 스튜디오   \n",
       "102         102            리홀뮤직갤러리   \n",
       "174         174        서귀포 용왕난드르마을   \n",
       "191         191  속초해수욕장 대관람차(속초아이)   \n",
       "298         298       유달산 목재문화 체험장   \n",
       "374         374           트니트니어드벤처   \n",
       "400         400            하추리산촌마을   \n",
       "\n",
       "                                                review  \\\n",
       "50   혼자 여행갔다가 이색체험 해 보고 싶어서 예약 후 갔어요~ 혼자 갔는데도 직원분들이...   \n",
       "81   아이가 알파카를 너무 좋아해서 제주도 도착 첫날 바로 방문했어요^^경치가 너무 예쁘...   \n",
       "95   I went here to take photos with a high school ...   \n",
       "102  음악 듣기 좋아요\\n😍\\n클래식과 밴드음악 듣기 좋아요\\n24년 살면서 경험한 공간...   \n",
       "174  제가 최고 애정하는 보말 맛집이에요~!! 메뉴마다 다~~~ 맛있습니다!! 이 집 없...   \n",
       "191  평일에는 기다림없이 바로 입장할수 있었습니다\\r\\n속초에 놀러가면 늘 방문하는데 속...   \n",
       "298  즐거운시간이었습니다\\n케이블카 타고 유달산 넘어가는 중 우연히 발견한 체험장입니다....   \n",
       "374  17개월 꼬맹이도 5살 누나도\\r\\n너무너무 즐겁게 잘 즐겼어요 :)\\r\\n평소에도...   \n",
       "400  산촌마을 사랑방 느낌.\\r\\n포근하고 따뜻해요.\\r\\n특산물 판매도 같이하네요.\\r...   \n",
       "\n",
       "                                                 words 힐링 혼자 자연 액티비티  \\\n",
       "50   사진 안 트레킹 줌 분 삼 가면 진심 치마 재밋 낙타 체험 사진 아이 저 느낌 생각...  X  O  X    O   \n",
       "81   알파카 동물 말 염소 구경 토끼 더 생각 카페 사장 알파카 아이 먹이 이름 여행 혼...  X  O  X    O   \n",
       "95   포즈 생일 다음 시선 추억 소품 또 작업 인형 처리 사진 친구 정말 방문 샷 인생 ...  X  O  X    O   \n",
       "102  방문 것 갤러리 오히려 혼자 공간 곡 대해 청곡 분 공간 스피커 설명 장르 곡 더 ...  X  O  X    O   \n",
       "174  수제비 여기 해조 가장 집 거의 이 맛집 드르 몇 제 정말 입맛 맛집 조금 혼자 간...  X  O  X    X   \n",
       "191  속초 예약 바로 입장 이용 혼자 주차장 대기 네이버 평일 생각 뷰 정말 전망 타 사...  O  O  O    O   \n",
       "298  체험 직원 유달산 캄 장가 목공 마 수 목재 포도 명 시간 그 휴지 사람 딸 혼자 ...  X  O  X    X   \n",
       "374  아이 수업 선생님 시간 때 번 좀 다시 혼자 문 아기 근육 가장 존 미끄럼틀 저 운...  X  O  X    O   \n",
       "400  여행 추리 산신령 혼자 카페 커피 장님 사무국 맞이 지역 수 정말 모든 것 추억 참...  X  O  X    O   \n",
       "\n",
       "                            addr1 cat1   cat2       cat3  \n",
       "50   제주특별자치도 서귀포시 표선면 번영로 2564-21  A02  A0203  A02030100  \n",
       "81       제주특별자치도 제주시 애월읍 도치돌길 293  A02  A0203  A02030100  \n",
       "95                  서울특별시 마포구 동교동  A02  A0203  A02030400  \n",
       "102      서울특별시 성북구 성북로31길 9 (성북동)  A02  A0203  A02030400  \n",
       "174      제주특별자치도 서귀포시 안덕면 대평감산로 8  A02  A0203  A02030100  \n",
       "191           강원특별자치도 속초시 청호해안길 2  A02  A0203  A02030400  \n",
       "298                  전라남도 목포시 죽교동  A02  A0203  A02030400  \n",
       "374         경기도 가평군 청평면 북한강로 2245  A02  A0203  A02030400  \n",
       "400       강원특별자치도 인제군 인제읍 하추로 187  A02  A0203  A02030100  "
      ]
     },
     "execution_count": 57,
     "metadata": {},
     "output_type": "execute_result"
    }
   ],
   "source": [
    "cond1 = df2[\"혼자\"] == \"O\"\n",
    "\n",
    "df2.loc[cond1]"
   ]
  },
  {
   "cell_type": "code",
   "execution_count": 58,
   "id": "33ed4852",
   "metadata": {},
   "outputs": [
    {
     "data": {
      "text/plain": [
       "'혼자 여행갔다가 이색체험 해 보고 싶어서 예약 후 갔어요~ 혼자 갔는데도 직원분들이 친절하게 안내해주셔서 크게 어색하거나 힘들지 않았습니다!\\r\\n다양한 히잡들이 있어 착용한 의상과 깔맞춤한 히잡을 찾다보니 체크무늬를 착용했고 낙타와 찍힌 사진을 보고 착용하길 잘했구나 생각했습니다! 하필 얼굴에 큰 트러블이 딱 하나 올라왔어서 사진이 예쁘게 안 나올거라 생각했는데 이럴수가 너무 너무 잘 나와서 혼자 체험한 기념으로 사진도 구매했네요~낙타가 말보다 더 높아서 좀 긴장됐는데 제가 탔던 낙타 친구의 목이 활발하게 움직이고 소리도 내서 기분이 안 좋은가 싶더라구요 저만의 착각이겠지만 당시 느낌은 그랬기에 타고있던 짧은 시간동안 무서웠네요 그래도 직원분이 포토타임때 달래줘서 무서움이 조금 사라졌어요 *^^* 이색체험 강추\\n가격도 저렴하게 체험잘했어요!!\\r\\n낙타 끌어주고, 타고내릴때 도와주시는 직원분들도 다 친절하세요! (치마입고 가면 담요까지줌 .. 섬세함) \\r\\n사진찍어주시는분이 진심으로 찍어주셔서 \\r\\n재밋게 트레킹 하고 나오면 사진이 있는데 \\r\\nㄹㅇ 안살수 없습니다ㅋㅋㅋㅋ (그래서 나도 삼!) \\r\\n아이도 좋아했고 저도 너무 신나는 경험 이였어요 !! \\n\\r\\n이국적인느낌이  담긴사진도\\r\\n이뻐서구입하고 ㅎ\\r\\n핸드폰사진도 너무이쁘게잘찍혔어요\\r\\n낙타타는거 신기하고\\r\\n아이들이 좋아했어요\\r\\n저렴한가격에 임팩트강한추억~!\\r\\n감사합니다\\n제주패키지여행을갔는데  아리랑혼을 관람한다했다\\r\\n난 이미 봤던공연이라서 대신 바로옆 낙타트레킹을 네이버로구매후 당일바로  현장가격보다 저렴하게 이용할수있어 좋았다 직원분들 몽공분이지만 친절하다\\r\\n물론 한국상주직원들도 있다 가격대비 만족스런체험이었다\\n가족들과 25개월 아이랑 좋은 추억 만들고 왔어요!\\r\\n아이가 무서워 하지도 않고 좋아했습니다. 낙타한테 고맙다고 하네요ㅎ\\r\\n트래킹 코스는 짧아요~생각보다 많이 꿀렁 덜컹한 승차감이네요! \\r\\n\\n낙타체험은 흔하지 않아서 궁금해서 가봤는데 사람 왜이렇게 많아요ㅎㅎ 타보니까 생각보다 놉고 떨어질까봐 저도 모르게 손잡이를 꽉 잡았다는...ㅋㅋㅋ 아이들이 다 좋아했고 또 타고 싶대요 ㅋㅋ 사진은 단체사진이라 추억이라 안살수가 없음..ㅋㅋ(원본 주신대용) 그래서 샀어요 ㅋㅋ 좋은 추억 이었습니다!\\n겨울에 낙타라니!!!\\r\\n\\r\\n남자는 터번 여자는 히잡을 쓰고 낙타를 탈 수 있어요 꼭 그렇게 쓰고 해 보세요\\r\\n\\r\\n아이들이 너무 좋아해요 \\r\\n\\r\\n겨울에 낙타 냄새 없이 탈 수 있어서 좋았어요 \\r\\n어른들이 더 좋아할걸요?? \\r\\n아이들과 좋은 추억 만들어보세여\\r\\n\\n어린 낙타 너모너모 귀엽구요,,\\r\\n가격도 네이버로 예약하면 6천5백원 밖에 안 하는데 색다른 경험 할 수 있어요! 시간이 짧다면 짧지만 아이가 말은 많이 타봤다며 낙타 타고 대만족했고 저도 좋았어요🐫🐫 기념 사진도 살 수 있고 어린 낙타 먹이주기도 좋았어요 제주도에서 아이랑 같이 신선한 체험 좋아요❤️\\n당근주면서 느낌 낙타의 이빨 느낌은 있지 못할것같아요ㅋㅋㅋ 히잡을 쓰고서 낙타를 타고가는데 낙타걸음에 맞춰 흔들리는것도 재밌었고 사진을 예쁘게 잘 찍어주셔서 좋았습니다! 낙타의 희안한 울음소리도 소소한 재미포인트!\\n성읍민속마을 방문했다가 근처에 있어서 네이버예약하고 이용했어요 굉장히 이색적인 경험이였지만 할인된 금액이 적당했던거 같고 건초먹이주기는 관리가 안되있고 낙타들도 유료체험인 당근만 먹더라구요 ㅎㅎㅎ 사진촬영은 너무 잘해주시지만 금액이 관광지감안해도 너무 비싸요 요즘스타일의 액자디자인도 아니고 사이즈도 크니 부담스럽구요 사진인화만해서 조금 저렴하거나 모바일전송으로 금액받으시면 대부분 다 구입할듯해요! '"
      ]
     },
     "execution_count": 58,
     "metadata": {},
     "output_type": "execute_result"
    }
   ],
   "source": [
    "df2[\"review\"][50]"
   ]
  },
  {
   "cell_type": "code",
   "execution_count": 59,
   "id": "286bb276",
   "metadata": {},
   "outputs": [
    {
     "data": {
      "text/html": [
       "<div>\n",
       "<style scoped>\n",
       "    .dataframe tbody tr th:only-of-type {\n",
       "        vertical-align: middle;\n",
       "    }\n",
       "\n",
       "    .dataframe tbody tr th {\n",
       "        vertical-align: top;\n",
       "    }\n",
       "\n",
       "    .dataframe thead th {\n",
       "        text-align: right;\n",
       "    }\n",
       "</style>\n",
       "<table border=\"1\" class=\"dataframe\">\n",
       "  <thead>\n",
       "    <tr style=\"text-align: right;\">\n",
       "      <th></th>\n",
       "      <th>Unnamed: 0</th>\n",
       "      <th>name</th>\n",
       "      <th>review</th>\n",
       "      <th>words</th>\n",
       "      <th>힐링</th>\n",
       "      <th>혼자</th>\n",
       "      <th>자연</th>\n",
       "      <th>액티비티</th>\n",
       "      <th>addr1</th>\n",
       "      <th>cat1</th>\n",
       "      <th>cat2</th>\n",
       "      <th>cat3</th>\n",
       "    </tr>\n",
       "  </thead>\n",
       "  <tbody>\n",
       "    <tr>\n",
       "      <th>50</th>\n",
       "      <td>50</td>\n",
       "      <td>낙타트레킹</td>\n",
       "      <td>혼자 여행갔다가 이색체험 해 보고 싶어서 예약 후 갔어요~ 혼자 갔는데도 직원분들이...</td>\n",
       "      <td>사진 안 트레킹 줌 분 삼 가면 진심 치마 재밋 낙타 체험 사진 아이 저 느낌 생각...</td>\n",
       "      <td>X</td>\n",
       "      <td>O</td>\n",
       "      <td>X</td>\n",
       "      <td>O</td>\n",
       "      <td>제주특별자치도 서귀포시 표선면 번영로 2564-21</td>\n",
       "      <td>A02</td>\n",
       "      <td>A0203</td>\n",
       "      <td>A02030100</td>\n",
       "    </tr>\n",
       "  </tbody>\n",
       "</table>\n",
       "</div>"
      ],
      "text/plain": [
       "    Unnamed: 0   name                                             review  \\\n",
       "50          50  낙타트레킹  혼자 여행갔다가 이색체험 해 보고 싶어서 예약 후 갔어요~ 혼자 갔는데도 직원분들이...   \n",
       "\n",
       "                                                words 힐링 혼자 자연 액티비티  \\\n",
       "50  사진 안 트레킹 줌 분 삼 가면 진심 치마 재밋 낙타 체험 사진 아이 저 느낌 생각...  X  O  X    O   \n",
       "\n",
       "                           addr1 cat1   cat2       cat3  \n",
       "50  제주특별자치도 서귀포시 표선면 번영로 2564-21  A02  A0203  A02030100  "
      ]
     },
     "execution_count": 59,
     "metadata": {},
     "output_type": "execute_result"
    }
   ],
   "source": [
    "pd.DataFrame([df2.iloc[50,:]])"
   ]
  },
  {
   "cell_type": "code",
   "execution_count": 60,
   "id": "57ef04e7",
   "metadata": {},
   "outputs": [
    {
     "data": {
      "text/plain": [
       "'사진 안 트레킹 줌 분 삼 가면 진심 치마 재밋 낙타 체험 사진 아이 저 느낌 생각 금액 혼자 이색 낙타 아이 가격 히잡 수 추억 직원 착용 사진 네이버'"
      ]
     },
     "execution_count": 60,
     "metadata": {},
     "output_type": "execute_result"
    }
   ],
   "source": [
    "df2[\"words\"][50]"
   ]
  }
 ],
 "metadata": {
  "kernelspec": {
   "display_name": "Python 3 (ipykernel)",
   "language": "python",
   "name": "python3"
  },
  "language_info": {
   "codemirror_mode": {
    "name": "ipython",
    "version": 3
   },
   "file_extension": ".py",
   "mimetype": "text/x-python",
   "name": "python",
   "nbconvert_exporter": "python",
   "pygments_lexer": "ipython3",
   "version": "3.11.5"
  },
  "toc": {
   "base_numbering": 1,
   "nav_menu": {},
   "number_sections": true,
   "sideBar": true,
   "skip_h1_title": false,
   "title_cell": "Table of Contents",
   "title_sidebar": "Contents",
   "toc_cell": false,
   "toc_position": {},
   "toc_section_display": true,
   "toc_window_display": false
  }
 },
 "nbformat": 4,
 "nbformat_minor": 5
}
